{
 "cells": [
  {
   "cell_type": "markdown",
   "metadata": {},
   "source": [
    "## Model Report"
   ]
  },
  {
   "cell_type": "markdown",
   "metadata": {},
   "source": [
    "\n",
    "The best model accuracy attained was a 74% accuracy with:\n",
    "Three Layers:\n",
    "- relu first layer with 10 nodes\n",
    "- relu second layer with 30 nodes\n",
    "- relu third layer with 10 nodes\n",
    "with a sigmoid output layer\n",
    "\n",
    "The 2nd best model accuaracy attained was a 73.5% accuracy with:\n",
    "Three layers:\n",
    "- gelu first layer with 10 nodes\n",
    "- relu second layer with 30 nodes\n",
    "- selu third layer with 10 nodes\n",
    "with a sigmoid output layer\n",
    "\n",
    "The 3rd best model accuracy attained was a 73.45% accuracy with:\n",
    "Three Layers:\n",
    "- relu first layer with 10 nores\n",
    "- relu second layer with 50 nodes\n",
    "- relu third layer with 5 nodes\n",
    "with a sigmoid output layer\n"
   ]
  },
  {
   "cell_type": "markdown",
   "metadata": {},
   "source": [
    "In Short, couldn't get any model past 75% accuracy. Did a over 20 tries."
   ]
  }
 ],
 "metadata": {
  "language_info": {
   "name": "python"
  },
  "orig_nbformat": 4
 },
 "nbformat": 4,
 "nbformat_minor": 2
}
